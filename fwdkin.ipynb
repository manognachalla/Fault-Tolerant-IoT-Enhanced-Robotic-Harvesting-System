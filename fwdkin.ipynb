{
 "cells": [
  {
   "metadata": {},
   "cell_type": "markdown",
   "source": "Forward Kinematics"
  },
  {
   "cell_type": "code",
   "metadata": {
    "ExecuteTime": {
     "end_time": "2025-03-09T02:48:29.024643Z",
     "start_time": "2025-03-09T02:48:29.009407Z"
    }
   },
   "source": [
    "import numpy as np\n",
    "import sympy as sym\n",
    "from sympy import symbols, cos, sin, pi, Matrix\n",
    "\n",
    "#symbolic variables\n",
    "theta1, theta2, theta3, theta4, theta5, theta6 = symbols('theta1 theta2 theta3 theta4 theta5 theta6')\n",
    "L1, L2, L3, L4, L5 = symbols('L1 L2 L3 L4 L5')\n",
    "\n",
    "#rotation Matrices\n",
    "def Rx(phi):\n",
    "    return Matrix([[1, 0, 0, 0],\n",
    "                   [0, cos(phi), -sin(phi), 0],\n",
    "                   [0, sin(phi), cos(phi), 0],\n",
    "                   [0, 0, 0, 1]])\n",
    "\n",
    "def Rz(phi):\n",
    "    return Matrix([[cos(phi), -sin(phi), 0, 0],\n",
    "                   [sin(phi), cos(phi), 0, 0],\n",
    "                   [0, 0, 1, 0],\n",
    "                   [0, 0, 0, 1]])\n",
    "\n",
    "def DH2A(d, theta, a, alpha):\n",
    "    \"\"\"DH transformation matrix \"\"\"\n",
    "    Tb = Matrix([[1, 0, 0, 0],\n",
    "                 [0, 1, 0, 0],\n",
    "                 [0, 0, 1, d],\n",
    "                 [0, 0, 0, 1]])\n",
    "    \n",
    "    Ttht = Rz(theta)\n",
    "    Ta = Matrix([[1, 0, 0, a],\n",
    "                 [0, 1, 0, 0],\n",
    "                 [0, 0, 1, 0],\n",
    "                 [0, 0, 0, 1]])\n",
    "    \n",
    "    Talp = Rx(alpha)\n",
    "    \n",
    "    return Tb * Ttht * Ta * Talp\n",
    "\n"
   ],
   "outputs": [],
   "execution_count": 51
  },
  {
   "metadata": {},
   "cell_type": "markdown",
   "source": "Transformation matrices"
  },
  {
   "cell_type": "code",
   "metadata": {
    "ExecuteTime": {
     "end_time": "2025-03-09T02:48:29.041684Z",
     "start_time": "2025-03-09T02:48:29.030214Z"
    }
   },
   "source": [
    "A1 = DH2A(L1, theta1, 0, pi/2)\n",
    "A1[0,1], A1[1,1], A1[2,2] = 0, 0, 0\n",
    "print(A1)\n"
   ],
   "outputs": [
    {
     "name": "stdout",
     "output_type": "stream",
     "text": [
      "Matrix([[cos(theta1), 0, sin(theta1), 0], [sin(theta1), 0, -cos(theta1), 0], [0, 1, 0, L1], [0, 0, 0, 1]])\n"
     ]
    }
   ],
   "execution_count": 52
  },
  {
   "cell_type": "code",
   "metadata": {
    "ExecuteTime": {
     "end_time": "2025-03-09T02:48:29.067266Z",
     "start_time": "2025-03-09T02:48:29.056278Z"
    }
   },
   "source": [
    "A2 = DH2A(0, theta2 + pi/2, L2, 0)\n",
    "print(A2)"
   ],
   "outputs": [
    {
     "name": "stdout",
     "output_type": "stream",
     "text": [
      "Matrix([[-sin(theta2), -cos(theta2), 0, -L2*sin(theta2)], [cos(theta2), -sin(theta2), 0, L2*cos(theta2)], [0, 0, 1, 0], [0, 0, 0, 1]])\n"
     ]
    }
   ],
   "execution_count": 53
  },
  {
   "cell_type": "code",
   "metadata": {
    "ExecuteTime": {
     "end_time": "2025-03-09T02:48:29.082542Z",
     "start_time": "2025-03-09T02:48:29.080099Z"
    }
   },
   "source": "A3 = DH2A(0, theta3, L3, 0)",
   "outputs": [],
   "execution_count": 54
  },
  {
   "cell_type": "code",
   "metadata": {
    "ExecuteTime": {
     "end_time": "2025-03-09T02:48:29.095960Z",
     "start_time": "2025-03-09T02:48:29.092671Z"
    }
   },
   "source": [
    "A4a = DH2A(0, theta4 + pi/2, 0, pi/2)\n",
    "A4b = DH2A(L4, 0, 0, 0)\n",
    "A4a[0,1], A4a[1,1], A4a[2,2] = 0, 0, 0\n",
    "A4 = A4a * A4b"
   ],
   "outputs": [],
   "execution_count": 55
  },
  {
   "cell_type": "code",
   "metadata": {
    "ExecuteTime": {
     "end_time": "2025-03-09T02:48:29.110919Z",
     "start_time": "2025-03-09T02:48:29.107885Z"
    }
   },
   "source": "A5 = DH2A(L5, theta5, 0, 0)",
   "outputs": [],
   "execution_count": 56
  },
  {
   "cell_type": "code",
   "metadata": {
    "ExecuteTime": {
     "end_time": "2025-03-09T02:48:29.129606Z",
     "start_time": "2025-03-09T02:48:29.120804Z"
    }
   },
   "source": [
    "#final transformation matrices\n",
    "T30 = A1 @ A2 @ A3\n",
    "T53 = A4 @ A5\n",
    "T50 = T30 @ T53\n",
    "# print(T50)"
   ],
   "outputs": [],
   "execution_count": 57
  },
  {
   "metadata": {},
   "cell_type": "markdown",
   "source": "Validation with numerical values"
  },
  {
   "cell_type": "code",
   "metadata": {
    "ExecuteTime": {
     "end_time": "2025-03-09T02:48:29.152425Z",
     "start_time": "2025-03-09T02:48:29.144428Z"
    }
   },
   "source": [
    "consts = {L1: 25.929, L2: 81.379, L3: 83.009, L4: 77, L5: 106}\n",
    "vals = {theta1: 0, theta2: 0, theta3: 0, theta4: -90*pi/180, theta5: 90*pi/180}\n",
    "\n",
    "#substituting values and evaluating the final transformation matrix\n",
    "T_evaluated = T50.subs({**consts, **vals}).evalf(4)\n",
    "print(T_evaluated)"
   ],
   "outputs": [
    {
     "name": "stdout",
     "output_type": "stream",
     "text": [
      "Matrix([[0, 0, 1.000, 183.0], [-1.000, 0, 0, 0], [0, -1.000, 0, 190.3], [0, 0, 0, 1.000]])\n"
     ]
    }
   ],
   "execution_count": 58
  },
  {
   "metadata": {},
   "cell_type": "markdown",
   "source": "Finding Position and Orientation using Euler angles"
  },
  {
   "metadata": {
    "ExecuteTime": {
     "end_time": "2025-03-09T02:48:29.177681Z",
     "start_time": "2025-03-09T02:48:29.174334Z"
    }
   },
   "cell_type": "code",
   "source": [
    "T = sym.Matrix(T_evaluated)\n",
    "R = T_evaluated[:3, :3]\n",
    "\n",
    "pitch = sym.atan2(-R[2, 0], sym.sqrt(R[0, 0]**2 + R[1, 0]**2))\n",
    "yaw = sym.Piecewise(\n",
    "    (sym.atan2(R[1, 0], R[0, 0]), abs(pitch) < sym.pi / 2),\n",
    "    (sym.atan2(-R[0, 1], R[1, 1]), True)\n",
    ")\n",
    "roll = sym.Piecewise(\n",
    "    (sym.atan2(R[2, 1], R[2, 2]), abs(pitch) < sym.pi / 2),\n",
    "    (0, True)\n",
    ")\n",
    "position = T_evaluated[:3, 3]\n",
    "\n",
    "print(\"orientation\")\n",
    "print(\"yaw\", yaw.evalf())\n",
    "print(\"pitch\", pitch.evalf())\n",
    "print(\"roll\", roll.evalf())\n",
    "\n",
    "print(\"\\nposition vector:\")\n",
    "print(position.evalf())"
   ],
   "outputs": [
    {
     "name": "stdout",
     "output_type": "stream",
     "text": [
      "orientation\n",
      "yaw -1.57079632679490\n",
      "pitch 0\n",
      "roll -1.57079632679490\n",
      "\n",
      "position vector:\n",
      "Matrix([[183.000000000000], [0], [190.316406250000]])\n"
     ]
    }
   ],
   "execution_count": 59
  }
 ],
 "metadata": {
  "kernelspec": {
   "display_name": "Python 3",
   "language": "python",
   "name": "python3"
  },
  "language_info": {
   "codemirror_mode": {
    "name": "ipython",
    "version": 3
   },
   "file_extension": ".py",
   "mimetype": "text/x-python",
   "name": "python",
   "nbconvert_exporter": "python",
   "pygments_lexer": "ipython3",
   "version": "3.12.4"
  }
 },
 "nbformat": 4,
 "nbformat_minor": 2
}
